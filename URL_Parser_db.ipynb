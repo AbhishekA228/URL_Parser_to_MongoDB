{
 "cells": [
  {
   "cell_type": "code",
   "execution_count": 2,
   "metadata": {},
   "outputs": [
    {
     "name": "stdout",
     "output_type": "stream",
     "text": [
      "Connected to MongoDB!\n"
     ]
    }
   ],
   "source": [
    "from pymongo import MongoClient\n",
    "\n",
    "# Connect to MongoDB server (default localhost:27017)\n",
    "client = MongoClient(\"mongodb://localhost:27017/\")\n",
    "\n",
    "# Create or access a database\n",
    "db = client[\"mydatabase\"]\n",
    "\n",
    "# Create or access a collection\n",
    "collection = db[\"mycollection\"]\n",
    "\n",
    "print(\"Connected to MongoDB!\")\n"
   ]
  },
  {
   "cell_type": "code",
   "execution_count": 3,
   "metadata": {},
   "outputs": [
    {
     "name": "stdout",
     "output_type": "stream",
     "text": [
      "Databases: ['WebCrawlerDB', 'admin', 'config', 'local']\n"
     ]
    }
   ],
   "source": [
    "# List all databases\n",
    "databases = client.list_database_names()\n",
    "print(\"Databases:\", databases)"
   ]
  },
  {
   "cell_type": "code",
   "execution_count": null,
   "metadata": {},
   "outputs": [],
   "source": []
  }
 ],
 "metadata": {
  "kernelspec": {
   "display_name": "Python 3",
   "language": "python",
   "name": "python3"
  },
  "language_info": {
   "codemirror_mode": {
    "name": "ipython",
    "version": 3
   },
   "file_extension": ".py",
   "mimetype": "text/x-python",
   "name": "python",
   "nbconvert_exporter": "python",
   "pygments_lexer": "ipython3",
   "version": "3.9.13"
  }
 },
 "nbformat": 4,
 "nbformat_minor": 2
}
